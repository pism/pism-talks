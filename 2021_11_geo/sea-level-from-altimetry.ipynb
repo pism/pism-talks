{
 "cells": [
  {
   "cell_type": "code",
   "execution_count": 28,
   "id": "eaeb2a11",
   "metadata": {},
   "outputs": [],
   "source": [
    "import pandas as pd\n",
    "import pylab as plt\n",
    "import statsmodels.api as sm"
   ]
  },
  {
   "cell_type": "code",
   "execution_count": 29,
   "id": "3b6ad488",
   "metadata": {},
   "outputs": [],
   "source": [
    "sl = pd.read_csv(\"https://www.star.nesdis.noaa.gov/socd/lsa/SeaLevelRise/slr/slr_sla_gbl_keep_all_66.csv\", header=5, index_col=\"year\")\n",
    "sl_ns = pd.read_csv(\"https://www.star.nesdis.noaa.gov/socd/lsa/SeaLevelRise/slr/slr_sla_gbl_free_all_66.csv\", header=5, index_col=\"year\")"
   ]
  },
  {
   "cell_type": "code",
   "execution_count": 30,
   "id": "01b7827e",
   "metadata": {},
   "outputs": [
    {
     "data": {
      "image/png": "[encoded data removed]",
      "text/plain": [
       "<Figure size 446.4x216 with 1 Axes>"
      ]
     },
     "metadata": {
      "needs_background": "light"
     },
     "output_type": "display_data"
    }
   ],
   "source": [
    "fig = plt.figure(figsize=(6.2, 3))\n",
    "ax = fig.add_subplot(111)\n",
    "sl_ns.plot(ax=ax, colormap=\"coolwarm\")\n",
    "sl_ns[\"mean\"] = sl_ns.mean(axis=1)\n",
    "X = sl_ns.index\n",
    "y = sl_ns[\"mean\"]\n",
    "X = sm.add_constant(X)\n",
    "model = sm.OLS(y, X).fit()\n",
    "b, a = model.params\n",
    "l_trend = ax.plot(sl_ns.index, a * sl_ns.index + b, color=\"0.25\", label=f\"linear trend: {a:.0f} mm/yr\")\n",
    "ax.legend()\n",
    "ax.set_ylabel(\"relative sea-level change (mm SLE)\")\n",
    "plt.title(\"Modern sea-level from satellite altimetry\")\n",
    "fig.tight_layout()\n",
    "fig.savefig(\"figures/sea-level-from-altimetry.pdf\")"
   ]
  },
  {
   "cell_type": "code",
   "execution_count": 36,
   "id": "48a373e5",
   "metadata": {},
   "outputs": [
    {
     "data": {
      "text/plain": [
       "<matplotlib.legend.Legend at 0x127645df0>"
      ]
     },
     "execution_count": 36,
     "metadata": {},
     "output_type": "execute_result"
    }
   ],
   "source": []
  },
  {
   "cell_type": "code",
   "execution_count": 23,
   "id": "44eae20a",
   "metadata": {},
   "outputs": [],
   "source": [
    "!open figures/sea-level-from-altimetry.pdf"
   ]
  },
  {
   "cell_type": "code",
   "execution_count": 31,
   "id": "afe6674f",
   "metadata": {},
   "outputs": [],
   "source": [
    "ax.legend?"
   ]
  },
  {
   "cell_type": "code",
   "execution_count": 7,
   "id": "1f464484",
   "metadata": {},
   "outputs": [
    {
     "name": "stdout",
     "output_type": "stream",
     "text": [
      "                            OLS Regression Results                            \n",
      "==============================================================================\n",
      "Dep. Variable:                   mean   R-squared:                       0.961\n",
      "Model:                            OLS   Adj. R-squared:                  0.961\n",
      "Method:                 Least Squares   F-statistic:                 3.145e+04\n",
      "Date:                Tue, 09 Nov 2021   Prob (F-statistic):               0.00\n",
      "Time:                        12:17:56   Log-Likelihood:                -3812.9\n",
      "No. Observations:                1292   AIC:                             7630.\n",
      "Df Residuals:                    1290   BIC:                             7640.\n",
      "Df Model:                           1                                         \n",
      "Covariance Type:            nonrobust                                         \n",
      "==============================================================================\n",
      "                 coef    std err          t      P>|t|      [0.025      0.975]\n",
      "------------------------------------------------------------------------------\n",
      "const      -6021.1139     34.083   -176.660      0.000   -6087.978   -5954.250\n",
      "x1             3.0103      0.017    177.344      0.000       2.977       3.044\n",
      "==============================================================================\n",
      "Omnibus:                        4.205   Durbin-Watson:                   0.476\n",
      "Prob(Omnibus):                  0.122   Jarque-Bera (JB):                3.951\n",
      "Skew:                          -0.090   Prob(JB):                        0.139\n",
      "Kurtosis:                       2.798   Cond. No.                     5.31e+05\n",
      "==============================================================================\n",
      "\n",
      "Notes:\n",
      "[1] Standard Errors assume that the covariance matrix of the errors is correctly specified.\n",
      "[2] The condition number is large, 5.31e+05. This might indicate that there are\n",
      "strong multicollinearity or other numerical problems.\n"
     ]
    }
   ],
   "source": [
    "print(model.summary())"
   ]
  },
  {
   "cell_type": "code",
   "execution_count": null,
   "id": "dc8dc738",
   "metadata": {},
   "outputs": [],
   "source": []
  },
  {
   "cell_type": "code",
   "execution_count": null,
   "id": "ac635ebe",
   "metadata": {},
   "outputs": [],
   "source": []
  },
  {
   "cell_type": "code",
   "execution_count": null,
   "id": "44329fe5",
   "metadata": {},
   "outputs": [],
   "source": []
  }
 ],
 "metadata": {
  "kernelspec": {
   "display_name": "Python 3 (ipykernel)",
   "language": "python",
   "name": "python3"
  },
  "language_info": {
   "codemirror_mode": {
    "name": "ipython",
    "version": 3
   },
   "file_extension": ".py",
   "mimetype": "text/x-python",
   "name": "python",
   "nbconvert_exporter": "python",
   "pygments_lexer": "ipython3",
   "version": "3.9.7"
  }
 },
 "nbformat": 4,
 "nbformat_minor": 5
}
