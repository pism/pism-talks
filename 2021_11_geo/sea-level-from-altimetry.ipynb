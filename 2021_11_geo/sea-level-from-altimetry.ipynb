{
 "cells": [
  {
   "cell_type": "code",
   "execution_count": 9,
   "id": "eaeb2a11",
   "metadata": {},
   "outputs": [],
   "source": [
    "import pandas as pd\n",
    "import pylab as plt\n",
    "import statsmodels.api as sm"
   ]
  },
  {
   "cell_type": "code",
   "execution_count": 10,
   "id": "3b6ad488",
   "metadata": {},
   "outputs": [],
   "source": [
    "sl = pd.read_csv(\"https://www.star.nesdis.noaa.gov/socd/lsa/SeaLevelRise/slr/slr_sla_gbl_keep_all_66.csv\", header=5, index_col=\"year\")\n",
    "sl_ns = pd.read_csv(\"https://www.star.nesdis.noaa.gov/socd/lsa/SeaLevelRise/slr/slr_sla_gbl_free_all_66.csv\", header=5, index_col=\"year\")"
   ]
  },
  {
   "cell_type": "code",
   "execution_count": 27,
   "id": "92b1fffd",
   "metadata": {},
   "outputs": [
    {
     "ename": "NameError",
     "evalue": "name 'df' is not defined",
     "output_type": "error",
     "traceback": [
      "\u001b[0;31m---------------------------------------------------------------------------\u001b[0m",
      "\u001b[0;31mNameError\u001b[0m                                 Traceback (most recent call last)",
      "\u001b[0;32m/var/folders/5g/4lg4tzwn1_d4x1q5t32_wrl80000gn/T/ipykernel_51131/1382867346.py\u001b[0m in \u001b[0;36m<module>\u001b[0;34m\u001b[0m\n\u001b[0;32m----> 1\u001b[0;31m \u001b[0mdf\u001b[0m\u001b[0;34m[\u001b[0m\u001b[0;34m\"mean\"\u001b[0m\u001b[0;34m]\u001b[0m \u001b[0;34m=\u001b[0m \u001b[0msl_ns\u001b[0m\u001b[0;34m.\u001b[0m\u001b[0mmean\u001b[0m\u001b[0;34m(\u001b[0m\u001b[0maxis\u001b[0m\u001b[0;34m=\u001b[0m\u001b[0;36m1\u001b[0m\u001b[0;34m)\u001b[0m\u001b[0;34m\u001b[0m\u001b[0;34m\u001b[0m\u001b[0m\n\u001b[0m",
      "\u001b[0;31mNameError\u001b[0m: name 'df' is not defined"
     ]
    }
   ],
   "source": [
    "df = = sl_ns\n",
    "df[\"mean\"]\n"
   ]
  },
  {
   "cell_type": "code",
   "execution_count": 25,
   "id": "48a373e5",
   "metadata": {},
   "outputs": [],
   "source": [
    "X = sl_ns.index\n",
    "y = sl_ns[\"mean\"]\n",
    "X = sm.add_constant(X)\n",
    "model = sm.OLS(y, X).fit()\n",
    "b, a = model.params"
   ]
  },
  {
   "cell_type": "code",
   "execution_count": 26,
   "id": "01b7827e",
   "metadata": {},
   "outputs": [
    {
     "data": {
      "image/png": "[encoded data removed]",
      "text/plain": [
       "<Figure size 446.4x216 with 1 Axes>"
      ]
     },
     "metadata": {
      "needs_background": "light"
     },
     "output_type": "display_data"
    }
   ],
   "source": [
    "fig = plt.figure(figsize=(6.2, 3))\n",
    "ax = fig.add_subplot(111)\n",
    "sl_ns.plot(ax=ax, colormap=\"twilight_shifted\")\n",
    "ax.plot(sl_ns.index, a * sl_ns.index + b)\n",
    "plt.title(\"Modern sea-level from satellite altimetry\")\n",
    "fig.tight_layout()\n",
    "fig.savefig(\"figures/sea-level-from-altimetry.pdf\")"
   ]
  },
  {
   "cell_type": "code",
   "execution_count": 12,
   "id": "44eae20a",
   "metadata": {},
   "outputs": [
    {
     "data": {
      "text/html": [
       "<div>\n",
       "<style scoped>\n",
       "    .dataframe tbody tr th:only-of-type {\n",
       "        vertical-align: middle;\n",
       "    }\n",
       "\n",
       "    .dataframe tbody tr th {\n",
       "        vertical-align: top;\n",
       "    }\n",
       "\n",
       "    .dataframe thead th {\n",
       "        text-align: right;\n",
       "    }\n",
       "</style>\n",
       "<table border=\"1\" class=\"dataframe\">\n",
       "  <thead>\n",
       "    <tr style=\"text-align: right;\">\n",
       "      <th></th>\n",
       "      <th>TOPEX/Poseidon</th>\n",
       "      <th>Jason-1</th>\n",
       "      <th>Jason-2</th>\n",
       "      <th>Jason-3</th>\n",
       "    </tr>\n",
       "    <tr>\n",
       "      <th>year</th>\n",
       "      <th></th>\n",
       "      <th></th>\n",
       "      <th></th>\n",
       "      <th></th>\n",
       "    </tr>\n",
       "  </thead>\n",
       "  <tbody>\n",
       "    <tr>\n",
       "      <th>1992.9614</th>\n",
       "      <td>-19.28</td>\n",
       "      <td>NaN</td>\n",
       "      <td>NaN</td>\n",
       "      <td>NaN</td>\n",
       "    </tr>\n",
       "    <tr>\n",
       "      <th>1992.9865</th>\n",
       "      <td>-19.70</td>\n",
       "      <td>NaN</td>\n",
       "      <td>NaN</td>\n",
       "      <td>NaN</td>\n",
       "    </tr>\n",
       "    <tr>\n",
       "      <th>1993.0123</th>\n",
       "      <td>-15.36</td>\n",
       "      <td>NaN</td>\n",
       "      <td>NaN</td>\n",
       "      <td>NaN</td>\n",
       "    </tr>\n",
       "    <tr>\n",
       "      <th>1993.0407</th>\n",
       "      <td>-19.16</td>\n",
       "      <td>NaN</td>\n",
       "      <td>NaN</td>\n",
       "      <td>NaN</td>\n",
       "    </tr>\n",
       "    <tr>\n",
       "      <th>1993.0660</th>\n",
       "      <td>-23.69</td>\n",
       "      <td>NaN</td>\n",
       "      <td>NaN</td>\n",
       "      <td>NaN</td>\n",
       "    </tr>\n",
       "    <tr>\n",
       "      <th>...</th>\n",
       "      <td>...</td>\n",
       "      <td>...</td>\n",
       "      <td>...</td>\n",
       "      <td>...</td>\n",
       "    </tr>\n",
       "    <tr>\n",
       "      <th>2021.6821</th>\n",
       "      <td>NaN</td>\n",
       "      <td>NaN</td>\n",
       "      <td>NaN</td>\n",
       "      <td>70.95</td>\n",
       "    </tr>\n",
       "    <tr>\n",
       "      <th>2021.7089</th>\n",
       "      <td>NaN</td>\n",
       "      <td>NaN</td>\n",
       "      <td>NaN</td>\n",
       "      <td>71.83</td>\n",
       "    </tr>\n",
       "    <tr>\n",
       "      <th>2021.7363</th>\n",
       "      <td>NaN</td>\n",
       "      <td>NaN</td>\n",
       "      <td>NaN</td>\n",
       "      <td>70.08</td>\n",
       "    </tr>\n",
       "    <tr>\n",
       "      <th>2021.7639</th>\n",
       "      <td>NaN</td>\n",
       "      <td>NaN</td>\n",
       "      <td>NaN</td>\n",
       "      <td>71.01</td>\n",
       "    </tr>\n",
       "    <tr>\n",
       "      <th>2021.7796</th>\n",
       "      <td>NaN</td>\n",
       "      <td>NaN</td>\n",
       "      <td>NaN</td>\n",
       "      <td>67.16</td>\n",
       "    </tr>\n",
       "  </tbody>\n",
       "</table>\n",
       "<p>1292 rows × 4 columns</p>\n",
       "</div>"
      ],
      "text/plain": [
       "           TOPEX/Poseidon  Jason-1  Jason-2  Jason-3\n",
       "year                                                \n",
       "1992.9614          -19.28      NaN      NaN      NaN\n",
       "1992.9865          -19.70      NaN      NaN      NaN\n",
       "1993.0123          -15.36      NaN      NaN      NaN\n",
       "1993.0407          -19.16      NaN      NaN      NaN\n",
       "1993.0660          -23.69      NaN      NaN      NaN\n",
       "...                   ...      ...      ...      ...\n",
       "2021.6821             NaN      NaN      NaN    70.95\n",
       "2021.7089             NaN      NaN      NaN    71.83\n",
       "2021.7363             NaN      NaN      NaN    70.08\n",
       "2021.7639             NaN      NaN      NaN    71.01\n",
       "2021.7796             NaN      NaN      NaN    67.16\n",
       "\n",
       "[1292 rows x 4 columns]"
      ]
     },
     "execution_count": 12,
     "metadata": {},
     "output_type": "execute_result"
    }
   ],
   "source": [
    "sl_ns"
   ]
  },
  {
   "cell_type": "code",
   "execution_count": 15,
   "id": "afe6674f",
   "metadata": {},
   "outputs": [],
   "source": []
  },
  {
   "cell_type": "code",
   "execution_count": 20,
   "id": "1f464484",
   "metadata": {},
   "outputs": [
    {
     "name": "stdout",
     "output_type": "stream",
     "text": [
      "                            OLS Regression Results                            \n",
      "==============================================================================\n",
      "Dep. Variable:                   mean   R-squared:                       0.961\n",
      "Model:                            OLS   Adj. R-squared:                  0.961\n",
      "Method:                 Least Squares   F-statistic:                 3.145e+04\n",
      "Date:                Tue, 09 Nov 2021   Prob (F-statistic):               0.00\n",
      "Time:                        11:26:19   Log-Likelihood:                -3812.9\n",
      "No. Observations:                1292   AIC:                             7630.\n",
      "Df Residuals:                    1290   BIC:                             7640.\n",
      "Df Model:                           1                                         \n",
      "Covariance Type:            nonrobust                                         \n",
      "==============================================================================\n",
      "                 coef    std err          t      P>|t|      [0.025      0.975]\n",
      "------------------------------------------------------------------------------\n",
      "const      -6021.1139     34.083   -176.660      0.000   -6087.978   -5954.250\n",
      "x1             3.0103      0.017    177.344      0.000       2.977       3.044\n",
      "==============================================================================\n",
      "Omnibus:                        4.205   Durbin-Watson:                   0.476\n",
      "Prob(Omnibus):                  0.122   Jarque-Bera (JB):                3.951\n",
      "Skew:                          -0.090   Prob(JB):                        0.139\n",
      "Kurtosis:                       2.798   Cond. No.                     5.31e+05\n",
      "==============================================================================\n",
      "\n",
      "Notes:\n",
      "[1] Standard Errors assume that the covariance matrix of the errors is correctly specified.\n",
      "[2] The condition number is large, 5.31e+05. This might indicate that there are\n",
      "strong multicollinearity or other numerical problems.\n"
     ]
    }
   ],
   "source": [
    "print(model.summary())"
   ]
  },
  {
   "cell_type": "code",
   "execution_count": 23,
   "id": "dc8dc738",
   "metadata": {},
   "outputs": [],
   "source": []
  },
  {
   "cell_type": "code",
   "execution_count": 24,
   "id": "ac635ebe",
   "metadata": {},
   "outputs": [
    {
     "data": {
      "text/plain": [
       "-6021.113903634079"
      ]
     },
     "execution_count": 24,
     "metadata": {},
     "output_type": "execute_result"
    }
   ],
   "source": []
  },
  {
   "cell_type": "code",
   "execution_count": null,
   "id": "44329fe5",
   "metadata": {},
   "outputs": [],
   "source": []
  }
 ],
 "metadata": {
  "kernelspec": {
   "display_name": "Python 3 (ipykernel)",
   "language": "python",
   "name": "python3"
  },
  "language_info": {
   "codemirror_mode": {
    "name": "ipython",
    "version": 3
   },
   "file_extension": ".py",
   "mimetype": "text/x-python",
   "name": "python",
   "nbconvert_exporter": "python",
   "pygments_lexer": "ipython3",
   "version": "3.9.7"
  }
 },
 "nbformat": 4,
 "nbformat_minor": 5
}
